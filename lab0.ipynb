{
 "cells": [
  {
   "cell_type": "markdown",
   "metadata": {},
   "source": [
    "# Лабораторна робота 0"
   ]
  },
  {
   "cell_type": "markdown",
   "metadata": {},
   "source": [
    "## Загальна інформація\n",
    "**Країна:** *Йорданія*  \n",
    "**Столиця:** *Амман*"
   ]
  },
  {
   "cell_type": "markdown",
   "metadata": {},
   "source": [
    "<div style=\"border: 2px solid #FFC0CB; padding: 10px; background-color: black;\">\n",
    "  Йорданія - країна на Близькому Сході, що межує з Саудівською Аравією, Іраком, Сирією, Ізраїлем та Палестиною. Вона має <b>багату</b> культурну історію** та <b>різноманітні ландшафти</b>, які приваблюють туристів з усього світу.\n",
    "</div>"
   ]
  },
  {
   "cell_type": "markdown",
   "metadata": {},
   "source": [
    "- **Площина:** *89,342 км²*\n",
    "- **Населення:** *10.3 млн*\n",
    "- **Державний устрій:** *Конституційна монархія*"
   ]
  },
  {
   "cell_type": "markdown",
   "metadata": {},
   "source": [
    "## Географія\n",
    "Рельєф Йорданії включає в себе різноманітні особливості, від пустель на сході до родючих долин на заході. Видатні географічні регіони:\n",
    "\n",
    "- **Ваді-Рам** - відома як «Долина Місяця», що характеризується приголомшливими скелями з пісковика та граніту.\n",
    "- **Мертве море** - найнижча точка на Землі, відома своїм високим вмістом солі, що дозволяє людям без особливих зусиль плавати."
   ]
  },
  {
   "cell_type": "markdown",
   "metadata": {},
   "source": [
    "## Уряд і політика\n",
    "Йорданія є *конституційною монархією* на чолі з **королем Абдаллою II**. Політична структура включає виконавчу, законодавчу та судову гілки влади.\n",
    "\n",
    "## Видатні особистості\n",
    "- **Король Абдалла II**: Чинний король, відомий за просування **поміркованості** та **миру** в регіоні.\n",
    "- **Королева Ранія**: Відома своєю гуманітарною діяльністю, адвокацією освіти та використанням **соціальних мереж** для зв'язку з людьми в усьому світі.\n",
    "\n",
    "## Культурні та природні пам'ятки\n",
    "- **Петра**: Світова спадщина ЮНЕСКО, також відома як *Рожеве місто*. Була столицею Набатейського царства.\n",
    "- **Джераш**: Стародавнє місто, відоме своїми добре збереженими **римськими руїнами**.\n",
    "- **Річка Йордан**: Важливе місце в релігійній історії, де, за переказами, **Іоанн Хреститель** хрестив **Ісуса Христа**."
   ]
  },
  {
   "cell_type": "markdown",
   "metadata": {},
   "source": [
    "| Пам'ятка | Тип | Місцезнаходження | Опис\n",
    "|----------|--------------|------------------|-------------------|\n",
    "| Петра    | Археологічна | Маан | Стародавнє місто, висічене в скелях\n",
    "| Мертве море | Природне| Західний кордон | Солоне озеро, найнижча точка на Землі\n",
    "| Ваді-Рам | Природний | Південна Йорданія | Пустельний ландшафт, відомий для піших прогулянок і кемпінгу |\n",
    "| Джераш | Археологічні розкопки | Джераш | Римські руїни"
   ]
  },
  {
   "cell_type": "markdown",
   "metadata": {},
   "source": [
    "## Вкладені списки\n",
    "- **Традиційний одяг**:\n",
    "  - Чоловічий:\n",
    "    - Тоба: Довга біла сукня.\n",
    "    - Кеффіє: Традиційна хустка.\n",
    "  - Жіночий:\n",
    "    - **Вишиті сукні**\n",
    "    - Хіджаб: Носять деякі\n",
    "\n",
    "- Фестивалі:\n",
    "  - Релігійні:\n",
    "    - Рамадан.\n",
    "    - Ід аль-Фітр.\n",
    "  - Національні свята:\n",
    "    - *День незалежності*: Відзначається 25 травня."
   ]
  },
  {
   "cell_type": "markdown",
   "metadata": {},
   "source": [
    "## Посилання для туристів\n",
    "[Official Website of Jordan Tourism](https://www.visitjordan.com).\n",
    "\n",
    "<img src=\"C:\\Users\\Dell\\Desktop\\course 3\\од\\pic1.jfif\" width=\"500\">"
   ]
  },
  {
   "cell_type": "code",
   "execution_count": 4,
   "metadata": {
    "vscode": {
     "languageId": "html"
    }
   },
   "outputs": [
    {
     "ename": "SyntaxError",
     "evalue": "invalid syntax (4149812406.py, line 1)",
     "output_type": "error",
     "traceback": [
      "\u001b[1;36m  Cell \u001b[1;32mIn[4], line 1\u001b[1;36m\u001b[0m\n\u001b[1;33m    <img src=\"https://www.tutu.ru/geo/jordan/article/petra_sight/\" alt=\"Petra\" width=\"500\">\u001b[0m\n\u001b[1;37m    ^\u001b[0m\n\u001b[1;31mSyntaxError\u001b[0m\u001b[1;31m:\u001b[0m invalid syntax\n"
     ]
    }
   ],
   "source": [
    "<img src=\"https://www.tutu.ru/geo/jordan/article/petra_sight/\" alt=\"Petra\" width=\"500\">"
   ]
  },
  {
   "cell_type": "markdown",
   "metadata": {},
   "source": [
    "## Флаг Йорданії\n",
    "<svg width=\"300\" height=\"200\">\n",
    "  <rect width=\"300\" height=\"66.6\" y=\"0\" style=\"fill:black\" />\n",
    "  <rect width=\"300\" height=\"66.6\" y=\"66.6\" style=\"fill:white\" />\n",
    "  <rect width=\"300\" height=\"66.6\" y=\"133.2\" style=\"fill:green\" />\n",
    "  <polygon points=\"0,0 150,100 0,200\" style=\"fill:red\" />\n",
    "  <circle cx=\"45\" cy=\"100\" r=\"3\" style=\"fill:white\" />\n",
    "  <polygon points=\"45,85 48,97 60,97 50,104 53,115 45,108 37,115 40,104 30,97 42,97\"\n",
    "           style=\"fill:white\" />\n",
    "</svg>\n"
   ]
  },
  {
   "cell_type": "code",
   "execution_count": 9,
   "metadata": {},
   "outputs": [],
   "source": [
    "def task_6(a, b):\n",
    "    def is_prime(n):\n",
    "        if n <= 1:\n",
    "            return False\n",
    "        for i in range(2, int(n**0.5) + 1):\n",
    "            if n % i == 0:\n",
    "                return False\n",
    "        return True\n",
    "\n",
    "    primes = [x for x in range(a, b + 1) if is_prime(x)]\n",
    "    return primes"
   ]
  },
  {
   "cell_type": "code",
   "execution_count": 11,
   "metadata": {},
   "outputs": [
    {
     "name": "stdout",
     "output_type": "stream",
     "text": [
      "[2, 3, 5, 7, 11, 13, 17, 19, 23, 29, 31, 37, 41, 43, 47]\n"
     ]
    }
   ],
   "source": [
    "print(task_6(2, 50))"
   ]
  },
  {
   "cell_type": "code",
   "execution_count": 12,
   "metadata": {},
   "outputs": [
    {
     "name": "stdout",
     "output_type": "stream",
     "text": [
      "[2, 3, 5, 7, 11, 13]\n"
     ]
    }
   ],
   "source": [
    "print(task_6(1, 15))"
   ]
  }
 ],
 "metadata": {
  "kernelspec": {
   "display_name": "Python 3",
   "language": "python",
   "name": "python3"
  },
  "language_info": {
   "codemirror_mode": {
    "name": "ipython",
    "version": 3
   },
   "file_extension": ".py",
   "mimetype": "text/x-python",
   "name": "python",
   "nbconvert_exporter": "python",
   "pygments_lexer": "ipython3",
   "version": "3.10.5"
  }
 },
 "nbformat": 4,
 "nbformat_minor": 2
}
